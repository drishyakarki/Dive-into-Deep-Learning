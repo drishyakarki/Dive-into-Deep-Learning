{
 "cells": [
  {
   "cell_type": "code",
   "execution_count": 1,
   "metadata": {},
   "outputs": [],
   "source": [
    "import torch\n",
    "import torch.nn as nn\n",
    "from torch.nn import functional as F\n",
    "from d2l import torch as d2l"
   ]
  },
  {
   "cell_type": "code",
   "execution_count": 2,
   "metadata": {},
   "outputs": [],
   "source": [
    "# Sooner or later you will need layer that does not exist yet in DL framework, and you need to  build a custom layer\n",
    "\n",
    "## Layers without parameters\n",
    "class CenteredLayer(nn.Module):\n",
    "    def __init__(self):\n",
    "        super().__init__()\n",
    "    \n",
    "    def forward(self, x):\n",
    "        return x - x.mean()  # Subtracts the mean from its input"
   ]
  },
  {
   "cell_type": "code",
   "execution_count": 4,
   "metadata": {},
   "outputs": [
    {
     "data": {
      "text/plain": [
       "tensor([-2., -1.,  0.,  1.,  2.])"
      ]
     },
     "execution_count": 4,
     "metadata": {},
     "output_type": "execute_result"
    }
   ],
   "source": [
    "layer = CenteredLayer()\n",
    "layer(torch.tensor([1.0, 2, 3, 4, 5]))"
   ]
  },
  {
   "cell_type": "code",
   "execution_count": 5,
   "metadata": {},
   "outputs": [
    {
     "name": "stderr",
     "output_type": "stream",
     "text": [
      "/home/drishya/miniconda3/envs/d2l/lib/python3.9/site-packages/torch/nn/modules/lazy.py:180: UserWarning: Lazy modules are a new feature under heavy development so changes to the API or functionality can happen at any moment.\n",
      "  warnings.warn('Lazy modules are a new feature under heavy development '\n"
     ]
    },
    {
     "data": {
      "text/plain": [
       "tensor(-3.7253e-09, grad_fn=<MeanBackward0>)"
      ]
     },
     "execution_count": 5,
     "metadata": {},
     "output_type": "execute_result"
    }
   ],
   "source": [
    "# Using our custom layer \n",
    "\n",
    "net = nn.Sequential(nn.LazyLinear(128), CenteredLayer())\n",
    "\n",
    "y = net(torch.rand(4, 8))\n",
    "y.mean()"
   ]
  },
  {
   "cell_type": "code",
   "execution_count": 7,
   "metadata": {},
   "outputs": [
    {
     "data": {
      "text/plain": [
       "Parameter containing:\n",
       "tensor([[-0.7140, -2.0931, -0.7308],\n",
       "        [ 0.0928, -0.5587, -0.9895],\n",
       "        [-1.6573,  0.1785,  0.7853],\n",
       "        [-0.0580,  0.0449, -0.8161],\n",
       "        [-0.9614,  0.6807, -0.9665]], requires_grad=True)"
      ]
     },
     "execution_count": 7,
     "metadata": {},
     "output_type": "execute_result"
    }
   ],
   "source": [
    "## Layers with Parameters\n",
    "\n",
    "class MyLinear(nn.Module):\n",
    "    def __init__(self, num_inputs, num_outputs):\n",
    "        super().__init__()\n",
    "        self.weight = nn.Parameter(torch.randn(num_inputs, num_outputs))\n",
    "        self.bias = nn.Parameter(torch.randn(num_outputs,))\n",
    "\n",
    "    def forward(self, x):\n",
    "        linear = torch.matmul(x, self.weight.data) + self.bias.data\n",
    "        return F.relu(linear)\n",
    "    \n",
    "# instantiate the class and accessing the parameters\n",
    "linear = MyLinear(5, 3)\n",
    "linear.weight"
   ]
  },
  {
   "cell_type": "code",
   "execution_count": 8,
   "metadata": {},
   "outputs": [
    {
     "data": {
      "text/plain": [
       "tensor([[0.],\n",
       "        [0.]])"
      ]
     },
     "execution_count": 8,
     "metadata": {},
     "output_type": "execute_result"
    }
   ],
   "source": [
    "# construct models using custom layers\n",
    "\n",
    "net = nn.Sequential(MyLinear(64, 8), MyLinear(8, 1))\n",
    "net(torch.rand(2, 64))"
   ]
  },
  {
   "cell_type": "code",
   "execution_count": 12,
   "metadata": {},
   "outputs": [
    {
     "name": "stdout",
     "output_type": "stream",
     "text": [
      "input tensor: tensor([[0.7086, 0.0318, 0.3474],\n",
      "        [0.0707, 0.4000, 0.1186],\n",
      "        [0.4314, 0.6837, 0.6274],\n",
      "        [0.9733, 0.4104, 0.5377],\n",
      "        [0.3204, 0.1288, 0.1624],\n",
      "        [0.8017, 0.5001, 0.9650],\n",
      "        [0.1058, 0.0189, 0.9028],\n",
      "        [0.8297, 0.2473, 0.9562]])\n",
      "Output tensor: tensor([[ 0.2386, -0.4382, -0.1226],\n",
      "        [-0.3993, -0.0700, -0.3514],\n",
      "        [-0.0386,  0.2137,  0.1574],\n",
      "        [ 0.5033, -0.0596,  0.0677],\n",
      "        [-0.1496, -0.3412, -0.3076],\n",
      "        [ 0.3317,  0.0301,  0.4950],\n",
      "        [-0.3642, -0.4511,  0.4328],\n",
      "        [ 0.3597, -0.2227,  0.4862]])\n"
     ]
    }
   ],
   "source": [
    "## Design a layer that takes an input and computes a tensor reduction\n",
    "# y_k = \\sum_{i, j} W_{ijk} x_i x_j\n",
    "\n",
    "class TensorReduction(nn.Module):\n",
    "    def __init__(self, num_in, num_out):\n",
    "        super().__init__()\n",
    "        self.weights = nn.Parameter(torch.rand(num_out, num_in, num_in))\n",
    "        \n",
    "    def forward(self, x):\n",
    "        assert x.dim() == 2, \"Input tensor should have shape(batch_size, input_size)\"\n",
    "        x_expanded = x.unsqueeze(1).unsqueeze(2) # expanding dimensions for broadcasting\n",
    "        y = torch.sum(self.weights * x_expanded * x_expanded.permute(0, 2, 1), dim=[2, 2]) # Tensor reduction\n",
    "        return y\n",
    "\n",
    "in_size = 3\n",
    "out_size = 2\n",
    "batch_size = 8\n",
    "net = TensorReduction(in_size, out_size)\n",
    "\n",
    "x = torch.rand((batch_size, in_size))\n",
    "print(\"input tensor:\", x)\n",
    "\n",
    "y = layer(x)  # Forward Pass\n",
    "print(\"Output tensor:\", y)"
   ]
  },
  {
   "cell_type": "code",
   "execution_count": null,
   "metadata": {},
   "outputs": [],
   "source": []
  }
 ],
 "metadata": {
  "kernelspec": {
   "display_name": "d2l",
   "language": "python",
   "name": "python3"
  },
  "language_info": {
   "codemirror_mode": {
    "name": "ipython",
    "version": 3
   },
   "file_extension": ".py",
   "mimetype": "text/x-python",
   "name": "python",
   "nbconvert_exporter": "python",
   "pygments_lexer": "ipython3",
   "version": "3.9.18"
  }
 },
 "nbformat": 4,
 "nbformat_minor": 2
}
